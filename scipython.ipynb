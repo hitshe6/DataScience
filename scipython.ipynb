{
 "cells": [
  {
   "cell_type": "code",
   "execution_count": 3,
   "metadata": {},
   "outputs": [
    {
     "name": "stdout",
     "output_type": "stream",
     "text": [
      "   2\n",
      "3 x + 4 x + 5\n"
     ]
    }
   ],
   "source": [
    "from numpy import poly1d \n",
    "p =poly1d([3,4,5])\n",
    "print(p)\n"
   ]
  },
  {
   "cell_type": "code",
   "execution_count": 4,
   "metadata": {},
   "outputs": [
    {
     "name": "stdout",
     "output_type": "stream",
     "text": [
      "   4      3      2\n",
      "9 x + 24 x + 46 x + 40 x + 25\n"
     ]
    }
   ],
   "source": [
    "print(p*p)"
   ]
  },
  {
   "cell_type": "code",
   "execution_count": 5,
   "metadata": {},
   "outputs": [
    {
     "name": "stdout",
     "output_type": "stream",
     "text": [
      "Enter the string: hi ih\n",
      "Palindrome\n"
     ]
    }
   ],
   "source": [
    "myStr = input(\"Enter the string: \")\n",
    "j = myStr\n",
    "rev = \"\"\n",
    "while(len(j) > 0):\n",
    "  if(len(j) > 0):\n",
    "    a = j[-1]\n",
    "    j = j[:-1]\n",
    "    rev = rev + a\n",
    "if(rev == myStr):\n",
    "  print(\"Palindrome\")\n",
    "else:\n",
    "  print(\"Not a Palindrome\")"
   ]
  },
  {
   "cell_type": "code",
   "execution_count": null,
   "metadata": {},
   "outputs": [],
   "source": [
    "def sentencePalindrome(s): \n",
    "    l, h = 0, len(s) - 1\n",
    "    s = s.lower() \n",
    "\n",
    "    while (l <= h): \n",
    "    \n",
    "        if (not(s[l] >= 'a' and s[l] <= 'z')): \n",
    "            l += 1\n",
    "        elif (not(s[h] >= 'a' and s[h] <= 'z')): \n",
    "            h -= 1\n",
    " \n",
    "        elif (s[l] == s[h]): \n",
    "            l += 1\n",
    "            h -= 1\n",
    "         \n",
    "        else: \n",
    "            return False\n",
    "    \n",
    "    return True\n",
    "     \n",
    "s = input(\"Enter the string:\")\n",
    "if (sentencePalindrome(s)): \n",
    "    print (\"Sentence is palindrome.\")\n",
    "else: \n",
    "    print (\"Sentence is not palindrome.\")\n",
    "  "
   ]
  },
  {
   "cell_type": "code",
   "execution_count": null,
   "metadata": {},
   "outputs": [],
   "source": []
  }
 ],
 "metadata": {
  "kernelspec": {
   "display_name": "Python 3",
   "language": "python",
   "name": "python3"
  },
  "language_info": {
   "codemirror_mode": {
    "name": "ipython",
    "version": 3
   },
   "file_extension": ".py",
   "mimetype": "text/x-python",
   "name": "python",
   "nbconvert_exporter": "python",
   "pygments_lexer": "ipython3",
   "version": "3.7.6"
  }
 },
 "nbformat": 4,
 "nbformat_minor": 4
}
